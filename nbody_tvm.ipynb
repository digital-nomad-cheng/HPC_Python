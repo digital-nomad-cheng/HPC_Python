{
 "cells": [
  {
   "cell_type": "code",
   "execution_count": 3,
   "id": "20f78539-63ec-4ec1-b13a-b62ddbcea056",
   "metadata": {},
   "outputs": [
    {
     "name": "stdout",
     "output_type": "stream",
     "text": [
      "Python 3.10.12\n"
     ]
    }
   ],
   "source": [
    "!python3 -V"
   ]
  },
  {
   "cell_type": "code",
   "execution_count": 4,
   "id": "3dfbcd88-35db-47be-80c2-83140f24d574",
   "metadata": {},
   "outputs": [
    {
     "name": "stdout",
     "output_type": "stream",
     "text": [
      "Collecting mlc-ai-nightly-cu121==0.12.dev1813\n",
      "  Downloading https://github.com/mlc-ai/package/releases/download/v0.9.dev0/mlc_ai_nightly_cu121-0.12.dev1813-cp310-cp310-manylinux_2_28_x86_64.whl (536.5 MB)\n",
      "\u001b[2K     \u001b[90m━━━━━━━━━━━━━━━━━━━━━━━━━━━━━━━━━━━━━━━\u001b[0m \u001b[32m536.5/536.5 MB\u001b[0m \u001b[31m6.4 MB/s\u001b[0m eta \u001b[36m0:00:00\u001b[0m00:01\u001b[0m00:01\u001b[0m\n",
      "\u001b[?25hRequirement already satisfied: decorator in /usr/local/lib/python3.10/dist-packages (from mlc-ai-nightly-cu121==0.12.dev1813) (5.1.1)\n",
      "Requirement already satisfied: scipy in /usr/local/lib/python3.10/dist-packages (from mlc-ai-nightly-cu121==0.12.dev1813) (1.11.3)\n",
      "Requirement already satisfied: tornado in /usr/local/lib/python3.10/dist-packages (from mlc-ai-nightly-cu121==0.12.dev1813) (6.3.3)\n",
      "Requirement already satisfied: attrs in /usr/local/lib/python3.10/dist-packages (from mlc-ai-nightly-cu121==0.12.dev1813) (23.1.0)\n",
      "Requirement already satisfied: typing-extensions in /usr/local/lib/python3.10/dist-packages (from mlc-ai-nightly-cu121==0.12.dev1813) (4.8.0)\n",
      "Requirement already satisfied: numpy in /usr/local/lib/python3.10/dist-packages (from mlc-ai-nightly-cu121==0.12.dev1813) (1.26.1)\n",
      "Collecting cloudpickle\n",
      "  Downloading cloudpickle-3.0.0-py3-none-any.whl (20 kB)\n",
      "Collecting ml-dtypes\n",
      "  Downloading ml_dtypes-0.3.1-cp310-cp310-manylinux_2_17_x86_64.manylinux2014_x86_64.whl (206 kB)\n",
      "\u001b[2K     \u001b[90m━━━━━━━━━━━━━━━━━━━━━━━━━━━━━━━━━━━━━━━\u001b[0m \u001b[32m206.7/206.7 KB\u001b[0m \u001b[31m4.1 MB/s\u001b[0m eta \u001b[36m0:00:00\u001b[0ma \u001b[36m0:00:01\u001b[0m\n",
      "\u001b[?25hRequirement already satisfied: psutil in /usr/local/lib/python3.10/dist-packages (from mlc-ai-nightly-cu121==0.12.dev1813) (5.9.6)\n",
      "Installing collected packages: ml-dtypes, cloudpickle, mlc-ai-nightly-cu121\n",
      "Successfully installed cloudpickle-3.0.0 ml-dtypes-0.3.1 mlc-ai-nightly-cu121-0.12.dev1813\n",
      "\u001b[33mWARNING: Running pip as the 'root' user can result in broken permissions and conflicting behaviour with the system package manager. It is recommended to use a virtual environment instead: https://pip.pypa.io/warnings/venv\u001b[0m\u001b[33m\n",
      "\u001b[0m"
     ]
    }
   ],
   "source": [
    "!pip install https://github.com/mlc-ai/package/releases/download/v0.9.dev0/mlc_ai_nightly_cu121-0.12.dev1813-cp310-cp310-manylinux_2_28_x86_64.whl"
   ]
  },
  {
   "cell_type": "code",
   "execution_count": 68,
   "id": "1adc7cdf-bd25-4cff-b316-c287b474f8e4",
   "metadata": {},
   "outputs": [
    {
     "name": "stdout",
     "output_type": "stream",
     "text": [
      "Collecting pandas\n",
      "  Downloading pandas-2.1.2-cp310-cp310-manylinux_2_17_x86_64.manylinux2014_x86_64.whl (12.3 MB)\n",
      "\u001b[2K     \u001b[90m━━━━━━━━━━━━━━━━━━━━━━━━━━━━━━━━━━━━━━━━\u001b[0m \u001b[32m12.3/12.3 MB\u001b[0m \u001b[31m7.4 MB/s\u001b[0m eta \u001b[36m0:00:00\u001b[0m00:01\u001b[0m00:01\u001b[0m\n",
      "\u001b[?25hRequirement already satisfied: python-dateutil>=2.8.2 in /usr/local/lib/python3.10/dist-packages (from pandas) (2.8.2)\n",
      "Requirement already satisfied: numpy<2,>=1.22.4 in /usr/local/lib/python3.10/dist-packages (from pandas) (1.26.1)\n",
      "Collecting tzdata>=2022.1\n",
      "  Downloading tzdata-2023.3-py2.py3-none-any.whl (341 kB)\n",
      "\u001b[2K     \u001b[90m━━━━━━━━━━━━━━━━━━━━━━━━━━━━━━━━━━━━━━\u001b[0m \u001b[32m341.8/341.8 KB\u001b[0m \u001b[31m14.8 MB/s\u001b[0m eta \u001b[36m0:00:00\u001b[0m\n",
      "\u001b[?25hCollecting pytz>=2020.1\n",
      "  Downloading pytz-2023.3.post1-py2.py3-none-any.whl (502 kB)\n",
      "\u001b[2K     \u001b[90m━━━━━━━━━━━━━━━━━━━━━━━━━━━━━━━━━━━━━━\u001b[0m \u001b[32m502.5/502.5 KB\u001b[0m \u001b[31m12.4 MB/s\u001b[0m eta \u001b[36m0:00:00\u001b[0m00:01\u001b[0m\n",
      "\u001b[?25hRequirement already satisfied: six>=1.5 in /usr/local/lib/python3.10/dist-packages (from python-dateutil>=2.8.2->pandas) (1.16.0)\n",
      "Installing collected packages: pytz, tzdata, pandas\n",
      "Successfully installed pandas-2.1.2 pytz-2023.3.post1 tzdata-2023.3\n",
      "\u001b[33mWARNING: Running pip as the 'root' user can result in broken permissions and conflicting behaviour with the system package manager. It is recommended to use a virtual environment instead: https://pip.pypa.io/warnings/venv\u001b[0m\u001b[33m\n",
      "\u001b[0m"
     ]
    }
   ],
   "source": [
    "!pip install pandas"
   ]
  },
  {
   "cell_type": "code",
   "execution_count": 50,
   "id": "843fa68c-99ae-4d67-b07f-472e02c11e2d",
   "metadata": {},
   "outputs": [],
   "source": [
    "import time"
   ]
  },
  {
   "cell_type": "code",
   "execution_count": 19,
   "id": "ce8fbfff-8f37-43ea-9e78-0245c6c5c826",
   "metadata": {},
   "outputs": [],
   "source": [
    "import IPython\n",
    "import numpy as np\n",
    "import tvm\n",
    "from tvm import relax\n",
    "from tvm.ir.module import IRModule\n",
    "from tvm.script import relax as R\n",
    "from tvm.script import tir as T"
   ]
  },
  {
   "cell_type": "code",
   "execution_count": null,
   "id": "da2c51a5-ac5c-4f7d-9168-d8fb4c3ed9ea",
   "metadata": {},
   "outputs": [],
   "source": [
    "@tvm.script.ir_module\n",
    "class MyModule:\n",
    "    @T.prim_func\n",
    "    def relu0(x: T.handle, y: T.handle):\n",
    "        n = T.int64()\n",
    "        X = T.match_buffer(x, (1, n), \"float32\")\n",
    "        Y = T.match_buffer(y, (1, n), \"float32\")\n",
    "        for i, j in T.grid(1, n):\n",
    "            with T.block(\"Y\"):\n",
    "                vi, vj = T.axis.remap(\"SS\", [i, j])\n",
    "                Y[vi, vj] = T.max(X[vi, vj], T.float32(0))\n",
    "\n",
    "    @T.prim_func\n",
    "    def linear0(x: T.handle,\n",
    "                w: T.handle,\n",
    "                b: T.handle,\n",
    "                z: T.handle):\n",
    "        m, n, k = T.int64(), T.int64(), T.int64()\n",
    "        X = T.match_buffer(x, (1, m), \"float32\")\n",
    "        W = T.match_buffer(w, (n, m), \"float32\")\n",
    "        B = T.match_buffer(b, (n, ), \"float32\")\n",
    "        Z = T.match_buffer(z, (1, n), \"float32\")\n",
    "        Y = T.alloc_buffer((1, n), \"float32\")\n",
    "        for i, j, k in T.grid(1, n, m):\n",
    "            with T.block(\"Y\"):\n",
    "                vi, vj, vk = T.axis.remap(\"SSR\", [i, j, k])\n",
    "                with T.init():\n",
    "                    Y[vi, vj] = T.float32(0)\n",
    "                Y[vi, vj] = Y[vi, vj] + X[vi, vk] * W[vj, vk]\n",
    "        for i, j in T.grid(1, n):\n",
    "            with T.block(\"Z\"):\n",
    "                vi, vj = T.axis.remap(\"SS\", [i, j])\n",
    "                Z[vi, vj] = Y[vi, vj] + B[vj]\n",
    "\n",
    "    @R.function\n",
    "    def main(x: R.Tensor((1, \"m\"), \"float32\"),\n",
    "             w0: R.Tensor((\"n\", \"m\"), \"float32\"),\n",
    "             b0: R.Tensor((\"n\", ), \"float32\"),\n",
    "             w1: R.Tensor((\"k\", \"n\"), \"float32\"),\n",
    "             b1: R.Tensor((\"k\", ), \"float32\")):\n",
    "        m, n, k = T.int64(), T.int64(), T.int64()\n",
    "        with R.dataflow():\n",
    "            lv0 = R.call_dps_packed(\"linear0\", (x, w0, b0), R.Tensor((1, n), \"float32\"))\n",
    "            lv1 = R.call_dps_packed(\"relu0\", (lv0, ), R.Tensor((1, n), \"float32\"))\n",
    "            out = R.call_dps_packed(\"linear0\", (lv1, w1, b1), R.Tensor((1, k), \"float32\"))\n",
    "            R.output(out)\n",
    "        return out"
   ]
  },
  {
   "cell_type": "code",
   "execution_count": 73,
   "id": "74be44e0-94b5-4ad7-9677-3615aa3dd4d4",
   "metadata": {},
   "outputs": [],
   "source": [
    "softening = 0.1\n",
    "@tvm.script.ir_module\n",
    "class NBodyModule:\n",
    "    @T.prim_func\n",
    "    def computeInvR3(dx : T.handle,\n",
    "                     dy : T.handle,\n",
    "                     dz : T.handle,\n",
    "                     #softening : T.float32,\n",
    "                     inv_R3 : T.handle):\n",
    "        n = T.int64()\n",
    "        X = T.match_buffer(dx, (n, n), \"float32\")\n",
    "        Y = T.match_buffer(dy, (n, n), \"float32\")\n",
    "        Z = T.match_buffer(dz, (n, n), \"float32\")\n",
    "        INV_R3 = T.match_buffer(inv_R3, (n, n), \"float32\")\n",
    "        for i, j in T.grid(n, n):\n",
    "            with T.block(\"INV_R3\"):\n",
    "                vi, vj = T.axis.remap(\"SS\", [i, j])\n",
    "                INV_R3[vi,vj] = T.pow(X[vi,vj], 2) + T.pow(Y[vi,vj], 2.0) + T.pow(Z[vi,vj], 2.0) + softening**2.0\n",
    "                if (INV_R3[vi,vj] > 0):\n",
    "                    INV_R3[vi,vj] = T.pow(INV_R3[vi,vj], (-1.5))\n",
    "\n",
    "    # def getAcc(pos, mass, G, softening):\n",
    "    # # Positions for all particles\n",
    "    # x = pos[:, 0:1]\n",
    "    # y = pos[:, 1:2]\n",
    "    # z = pos[:, 2:3]\n",
    "    \n",
    "    # # Particle separations\n",
    "    # dx = particleSeps(x)\n",
    "    # dy = particleSeps(y)\n",
    "    # dz = particleSeps(z)\n",
    "    \n",
    "    # # 1/r^3 for all particle separations\n",
    "    # inv_r3 = computeInvR3(dx, dy, dz, softening)\n",
    "    \n",
    "    # # Acceleration components per dimension\n",
    "    # ax = computeAcc(dx, inv_r3, mass, G)\n",
    "    # ay = computeAcc(dy, inv_r3, mass, G)\n",
    "    # az = computeAcc(dz, inv_r3, mass, G)\n",
    "    \n",
    "    # # Packing acceleration components\n",
    "    # a = np.hstack((ax, ay, az))\n",
    "    \n",
    "    # return a\n",
    "    # @T.prim_func\n",
    "    # def getAcc(pos: T.handle,\n",
    "    #            mass: T.handle,\n",
    "    #            acc: T.handle):\n",
    "    #     n = T.int64()\n",
    "    #     pos_tensor = T.match_buffer(pos, (n, 3), \"float32\")\n",
    "    #     mass_tensor = T.match_buffer(mass, (n, 1), \"float32\")\n",
    "    #     acc_tensor = T.match_buffer(acc, (n, 3), \"float32\")\n",
    "    #     x = pos_tensor[:, 0]\n",
    "        \n",
    "    @R.function\n",
    "    def main(dx: R.Tensor((\"n\", \"n\"), \"float32\"),\n",
    "             dy: R.Tensor((\"n\", \"n\"), \"float32\"),\n",
    "             dz: R.Tensor((\"n\", \"n\"), \"float32\"),\n",
    "            ) -> R.Tensor((\"n\", \"n\"), \"float32\"):\n",
    "        n = T.int64()\n",
    "        with R.dataflow():\n",
    "            lv0 = R.call_dps_packed(\"computeInvR3\", (dz, dy, dz), R.Tensor((n, n), \"float32\"))\n",
    "            R.output(lv0)\n",
    "        return lv0"
   ]
  },
  {
   "cell_type": "code",
   "execution_count": null,
   "id": "3a0ff775-66b7-40c7-a6bc-759ce8c17aa4",
   "metadata": {},
   "outputs": [],
   "source": []
  },
  {
   "cell_type": "code",
   "execution_count": 74,
   "id": "a4d31de3-bd16-4788-851b-d22e7161740c",
   "metadata": {},
   "outputs": [
    {
     "data": {
      "text/html": [
       "<style>pre { line-height: 125%; }\n",
       "td.linenos .normal { color: inherit; background-color: transparent; padding-left: 5px; padding-right: 5px; }\n",
       "span.linenos { color: inherit; background-color: transparent; padding-left: 5px; padding-right: 5px; }\n",
       "td.linenos .special { color: #000000; background-color: #ffffc0; padding-left: 5px; padding-right: 5px; }\n",
       "span.linenos.special { color: #000000; background-color: #ffffc0; padding-left: 5px; padding-right: 5px; }\n",
       ".output_html .hll { background-color: #ffffcc }\n",
       ".output_html { background: #f8f8f8; }\n",
       ".output_html .c { color: #3D7B7B; font-style: italic } /* Comment */\n",
       ".output_html .err { border: 1px solid #FF0000 } /* Error */\n",
       ".output_html .k { color: #008000; font-weight: bold } /* Keyword */\n",
       ".output_html .o { color: #666666 } /* Operator */\n",
       ".output_html .ch { color: #3D7B7B; font-style: italic } /* Comment.Hashbang */\n",
       ".output_html .cm { color: #3D7B7B; font-style: italic } /* Comment.Multiline */\n",
       ".output_html .cp { color: #9C6500 } /* Comment.Preproc */\n",
       ".output_html .cpf { color: #3D7B7B; font-style: italic } /* Comment.PreprocFile */\n",
       ".output_html .c1 { color: #3D7B7B; font-style: italic } /* Comment.Single */\n",
       ".output_html .cs { color: #3D7B7B; font-style: italic } /* Comment.Special */\n",
       ".output_html .gd { color: #A00000 } /* Generic.Deleted */\n",
       ".output_html .ge { font-style: italic } /* Generic.Emph */\n",
       ".output_html .ges { font-weight: bold; font-style: italic } /* Generic.EmphStrong */\n",
       ".output_html .gr { color: #E40000 } /* Generic.Error */\n",
       ".output_html .gh { color: #000080; font-weight: bold } /* Generic.Heading */\n",
       ".output_html .gi { color: #008400 } /* Generic.Inserted */\n",
       ".output_html .go { color: #717171 } /* Generic.Output */\n",
       ".output_html .gp { color: #000080; font-weight: bold } /* Generic.Prompt */\n",
       ".output_html .gs { font-weight: bold } /* Generic.Strong */\n",
       ".output_html .gu { color: #800080; font-weight: bold } /* Generic.Subheading */\n",
       ".output_html .gt { color: #0044DD } /* Generic.Traceback */\n",
       ".output_html .kc { color: #008000; font-weight: bold } /* Keyword.Constant */\n",
       ".output_html .kd { color: #008000; font-weight: bold } /* Keyword.Declaration */\n",
       ".output_html .kn { color: #008000; font-weight: bold } /* Keyword.Namespace */\n",
       ".output_html .kp { color: #008000 } /* Keyword.Pseudo */\n",
       ".output_html .kr { color: #008000; font-weight: bold } /* Keyword.Reserved */\n",
       ".output_html .kt { color: #B00040 } /* Keyword.Type */\n",
       ".output_html .m { color: #666666 } /* Literal.Number */\n",
       ".output_html .s { color: #BA2121 } /* Literal.String */\n",
       ".output_html .na { color: #687822 } /* Name.Attribute */\n",
       ".output_html .nb { color: #008000 } /* Name.Builtin */\n",
       ".output_html .nc { color: #0000FF; font-weight: bold } /* Name.Class */\n",
       ".output_html .no { color: #880000 } /* Name.Constant */\n",
       ".output_html .nd { color: #AA22FF } /* Name.Decorator */\n",
       ".output_html .ni { color: #717171; font-weight: bold } /* Name.Entity */\n",
       ".output_html .ne { color: #CB3F38; font-weight: bold } /* Name.Exception */\n",
       ".output_html .nf { color: #0000FF } /* Name.Function */\n",
       ".output_html .nl { color: #767600 } /* Name.Label */\n",
       ".output_html .nn { color: #0000FF; font-weight: bold } /* Name.Namespace */\n",
       ".output_html .nt { color: #008000; font-weight: bold } /* Name.Tag */\n",
       ".output_html .nv { color: #19177C } /* Name.Variable */\n",
       ".output_html .ow { color: #AA22FF; font-weight: bold } /* Operator.Word */\n",
       ".output_html .w { color: #bbbbbb } /* Text.Whitespace */\n",
       ".output_html .mb { color: #666666 } /* Literal.Number.Bin */\n",
       ".output_html .mf { color: #666666 } /* Literal.Number.Float */\n",
       ".output_html .mh { color: #666666 } /* Literal.Number.Hex */\n",
       ".output_html .mi { color: #666666 } /* Literal.Number.Integer */\n",
       ".output_html .mo { color: #666666 } /* Literal.Number.Oct */\n",
       ".output_html .sa { color: #BA2121 } /* Literal.String.Affix */\n",
       ".output_html .sb { color: #BA2121 } /* Literal.String.Backtick */\n",
       ".output_html .sc { color: #BA2121 } /* Literal.String.Char */\n",
       ".output_html .dl { color: #BA2121 } /* Literal.String.Delimiter */\n",
       ".output_html .sd { color: #BA2121; font-style: italic } /* Literal.String.Doc */\n",
       ".output_html .s2 { color: #BA2121 } /* Literal.String.Double */\n",
       ".output_html .se { color: #AA5D1F; font-weight: bold } /* Literal.String.Escape */\n",
       ".output_html .sh { color: #BA2121 } /* Literal.String.Heredoc */\n",
       ".output_html .si { color: #A45A77; font-weight: bold } /* Literal.String.Interpol */\n",
       ".output_html .sx { color: #008000 } /* Literal.String.Other */\n",
       ".output_html .sr { color: #A45A77 } /* Literal.String.Regex */\n",
       ".output_html .s1 { color: #BA2121 } /* Literal.String.Single */\n",
       ".output_html .ss { color: #19177C } /* Literal.String.Symbol */\n",
       ".output_html .bp { color: #008000 } /* Name.Builtin.Pseudo */\n",
       ".output_html .fm { color: #0000FF } /* Name.Function.Magic */\n",
       ".output_html .vc { color: #19177C } /* Name.Variable.Class */\n",
       ".output_html .vg { color: #19177C } /* Name.Variable.Global */\n",
       ".output_html .vi { color: #19177C } /* Name.Variable.Instance */\n",
       ".output_html .vm { color: #19177C } /* Name.Variable.Magic */\n",
       ".output_html .il { color: #666666 } /* Literal.Number.Integer.Long */</style><div class=\"highlight\"><pre><span></span><span class=\"c1\"># from tvm.script import ir as I</span>\n",
       "<span class=\"c1\"># from tvm.script import tir as T</span>\n",
       "<span class=\"c1\"># from tvm.script import relax as R</span>\n",
       "\n",
       "<span class=\"nd\">@I</span><span class=\"o\">.</span><span class=\"n\">ir_module</span>\n",
       "<span class=\"k\">class</span> <span class=\"nc\">Module</span><span class=\"p\">:</span>\n",
       "    <span class=\"nd\">@T</span><span class=\"o\">.</span><span class=\"n\">prim_func</span>\n",
       "    <span class=\"k\">def</span> <span class=\"nf\">computeInvR3</span><span class=\"p\">(</span><span class=\"n\">dx</span><span class=\"p\">:</span> <span class=\"n\">T</span><span class=\"o\">.</span><span class=\"n\">handle</span><span class=\"p\">,</span> <span class=\"n\">dy</span><span class=\"p\">:</span> <span class=\"n\">T</span><span class=\"o\">.</span><span class=\"n\">handle</span><span class=\"p\">,</span> <span class=\"n\">dz</span><span class=\"p\">:</span> <span class=\"n\">T</span><span class=\"o\">.</span><span class=\"n\">handle</span><span class=\"p\">,</span> <span class=\"n\">inv_R3</span><span class=\"p\">:</span> <span class=\"n\">T</span><span class=\"o\">.</span><span class=\"n\">handle</span><span class=\"p\">):</span>\n",
       "        <span class=\"n\">n</span> <span class=\"o\">=</span> <span class=\"n\">T</span><span class=\"o\">.</span><span class=\"n\">int64</span><span class=\"p\">()</span>\n",
       "        <span class=\"n\">X</span> <span class=\"o\">=</span> <span class=\"n\">T</span><span class=\"o\">.</span><span class=\"n\">match_buffer</span><span class=\"p\">(</span><span class=\"n\">dx</span><span class=\"p\">,</span> <span class=\"p\">(</span><span class=\"n\">n</span><span class=\"p\">,</span> <span class=\"n\">n</span><span class=\"p\">))</span>\n",
       "        <span class=\"n\">Y</span> <span class=\"o\">=</span> <span class=\"n\">T</span><span class=\"o\">.</span><span class=\"n\">match_buffer</span><span class=\"p\">(</span><span class=\"n\">dy</span><span class=\"p\">,</span> <span class=\"p\">(</span><span class=\"n\">n</span><span class=\"p\">,</span> <span class=\"n\">n</span><span class=\"p\">))</span>\n",
       "        <span class=\"n\">Z</span> <span class=\"o\">=</span> <span class=\"n\">T</span><span class=\"o\">.</span><span class=\"n\">match_buffer</span><span class=\"p\">(</span><span class=\"n\">dz</span><span class=\"p\">,</span> <span class=\"p\">(</span><span class=\"n\">n</span><span class=\"p\">,</span> <span class=\"n\">n</span><span class=\"p\">))</span>\n",
       "        <span class=\"n\">INV_R3</span> <span class=\"o\">=</span> <span class=\"n\">T</span><span class=\"o\">.</span><span class=\"n\">match_buffer</span><span class=\"p\">(</span><span class=\"n\">inv_R3</span><span class=\"p\">,</span> <span class=\"p\">(</span><span class=\"n\">n</span><span class=\"p\">,</span> <span class=\"n\">n</span><span class=\"p\">))</span>\n",
       "        <span class=\"c1\"># with T.block(&quot;root&quot;):</span>\n",
       "        <span class=\"k\">for</span> <span class=\"n\">i</span><span class=\"p\">,</span> <span class=\"n\">j</span> <span class=\"ow\">in</span> <span class=\"n\">T</span><span class=\"o\">.</span><span class=\"n\">grid</span><span class=\"p\">(</span><span class=\"n\">n</span><span class=\"p\">,</span> <span class=\"n\">n</span><span class=\"p\">):</span>\n",
       "            <span class=\"k\">with</span> <span class=\"n\">T</span><span class=\"o\">.</span><span class=\"n\">block</span><span class=\"p\">(</span><span class=\"s2\">&quot;INV_R3&quot;</span><span class=\"p\">):</span>\n",
       "                <span class=\"n\">vi</span><span class=\"p\">,</span> <span class=\"n\">vj</span> <span class=\"o\">=</span> <span class=\"n\">T</span><span class=\"o\">.</span><span class=\"n\">axis</span><span class=\"o\">.</span><span class=\"n\">remap</span><span class=\"p\">(</span><span class=\"s2\">&quot;SS&quot;</span><span class=\"p\">,</span> <span class=\"p\">[</span><span class=\"n\">i</span><span class=\"p\">,</span> <span class=\"n\">j</span><span class=\"p\">])</span>\n",
       "                <span class=\"n\">T</span><span class=\"o\">.</span><span class=\"n\">reads</span><span class=\"p\">(</span><span class=\"n\">X</span><span class=\"p\">[</span><span class=\"n\">vi</span><span class=\"p\">,</span> <span class=\"n\">vj</span><span class=\"p\">],</span> <span class=\"n\">Y</span><span class=\"p\">[</span><span class=\"n\">vi</span><span class=\"p\">,</span> <span class=\"n\">vj</span><span class=\"p\">],</span> <span class=\"n\">Z</span><span class=\"p\">[</span><span class=\"n\">vi</span><span class=\"p\">,</span> <span class=\"n\">vj</span><span class=\"p\">],</span> <span class=\"n\">INV_R3</span><span class=\"p\">[</span><span class=\"n\">vi</span><span class=\"p\">,</span> <span class=\"n\">vj</span><span class=\"p\">])</span>\n",
       "                <span class=\"n\">T</span><span class=\"o\">.</span><span class=\"n\">writes</span><span class=\"p\">(</span><span class=\"n\">INV_R3</span><span class=\"p\">[</span><span class=\"n\">vi</span><span class=\"p\">,</span> <span class=\"n\">vj</span><span class=\"p\">])</span>\n",
       "                <span class=\"n\">INV_R3</span><span class=\"p\">[</span><span class=\"n\">vi</span><span class=\"p\">,</span> <span class=\"n\">vj</span><span class=\"p\">]</span> <span class=\"o\">=</span> <span class=\"n\">T</span><span class=\"o\">.</span><span class=\"n\">pow</span><span class=\"p\">(</span><span class=\"n\">X</span><span class=\"p\">[</span><span class=\"n\">vi</span><span class=\"p\">,</span> <span class=\"n\">vj</span><span class=\"p\">],</span> <span class=\"n\">T</span><span class=\"o\">.</span><span class=\"n\">float32</span><span class=\"p\">(</span><span class=\"mi\">2</span><span class=\"p\">))</span> <span class=\"o\">+</span> <span class=\"n\">T</span><span class=\"o\">.</span><span class=\"n\">pow</span><span class=\"p\">(</span><span class=\"n\">Y</span><span class=\"p\">[</span><span class=\"n\">vi</span><span class=\"p\">,</span> <span class=\"n\">vj</span><span class=\"p\">],</span> <span class=\"n\">T</span><span class=\"o\">.</span><span class=\"n\">float32</span><span class=\"p\">(</span><span class=\"mi\">2</span><span class=\"p\">))</span> <span class=\"o\">+</span> <span class=\"n\">T</span><span class=\"o\">.</span><span class=\"n\">pow</span><span class=\"p\">(</span><span class=\"n\">Z</span><span class=\"p\">[</span><span class=\"n\">vi</span><span class=\"p\">,</span> <span class=\"n\">vj</span><span class=\"p\">],</span> <span class=\"n\">T</span><span class=\"o\">.</span><span class=\"n\">float32</span><span class=\"p\">(</span><span class=\"mi\">2</span><span class=\"p\">))</span> <span class=\"o\">+</span> <span class=\"n\">T</span><span class=\"o\">.</span><span class=\"n\">float32</span><span class=\"p\">(</span><span class=\"mf\">0.010000000000000002</span><span class=\"p\">)</span>\n",
       "                <span class=\"k\">if</span> <span class=\"n\">INV_R3</span><span class=\"p\">[</span><span class=\"n\">vi</span><span class=\"p\">,</span> <span class=\"n\">vj</span><span class=\"p\">]</span> <span class=\"o\">&gt;</span> <span class=\"n\">T</span><span class=\"o\">.</span><span class=\"n\">float32</span><span class=\"p\">(</span><span class=\"mi\">0</span><span class=\"p\">):</span>\n",
       "                    <span class=\"n\">INV_R3</span><span class=\"p\">[</span><span class=\"n\">vi</span><span class=\"p\">,</span> <span class=\"n\">vj</span><span class=\"p\">]</span> <span class=\"o\">=</span> <span class=\"n\">T</span><span class=\"o\">.</span><span class=\"n\">pow</span><span class=\"p\">(</span><span class=\"n\">INV_R3</span><span class=\"p\">[</span><span class=\"n\">vi</span><span class=\"p\">,</span> <span class=\"n\">vj</span><span class=\"p\">],</span> <span class=\"n\">T</span><span class=\"o\">.</span><span class=\"n\">float32</span><span class=\"p\">(</span><span class=\"o\">-</span><span class=\"mf\">1.5</span><span class=\"p\">))</span>\n",
       "\n",
       "    <span class=\"nd\">@R</span><span class=\"o\">.</span><span class=\"n\">function</span>\n",
       "    <span class=\"k\">def</span> <span class=\"nf\">main</span><span class=\"p\">(</span><span class=\"n\">dx</span><span class=\"p\">:</span> <span class=\"n\">R</span><span class=\"o\">.</span><span class=\"n\">Tensor</span><span class=\"p\">((</span><span class=\"s2\">&quot;n&quot;</span><span class=\"p\">,</span> <span class=\"s2\">&quot;n&quot;</span><span class=\"p\">),</span> <span class=\"n\">dtype</span><span class=\"o\">=</span><span class=\"s2\">&quot;float32&quot;</span><span class=\"p\">),</span> <span class=\"n\">dy</span><span class=\"p\">:</span> <span class=\"n\">R</span><span class=\"o\">.</span><span class=\"n\">Tensor</span><span class=\"p\">((</span><span class=\"s2\">&quot;n&quot;</span><span class=\"p\">,</span> <span class=\"s2\">&quot;n&quot;</span><span class=\"p\">),</span> <span class=\"n\">dtype</span><span class=\"o\">=</span><span class=\"s2\">&quot;float32&quot;</span><span class=\"p\">),</span> <span class=\"n\">dz</span><span class=\"p\">:</span> <span class=\"n\">R</span><span class=\"o\">.</span><span class=\"n\">Tensor</span><span class=\"p\">((</span><span class=\"s2\">&quot;n&quot;</span><span class=\"p\">,</span> <span class=\"s2\">&quot;n&quot;</span><span class=\"p\">),</span> <span class=\"n\">dtype</span><span class=\"o\">=</span><span class=\"s2\">&quot;float32&quot;</span><span class=\"p\">))</span> <span class=\"o\">-&gt;</span> <span class=\"n\">R</span><span class=\"o\">.</span><span class=\"n\">Tensor</span><span class=\"p\">((</span><span class=\"s2\">&quot;n&quot;</span><span class=\"p\">,</span> <span class=\"s2\">&quot;n&quot;</span><span class=\"p\">),</span> <span class=\"n\">dtype</span><span class=\"o\">=</span><span class=\"s2\">&quot;float32&quot;</span><span class=\"p\">):</span>\n",
       "        <span class=\"n\">n</span> <span class=\"o\">=</span> <span class=\"n\">T</span><span class=\"o\">.</span><span class=\"n\">int64</span><span class=\"p\">()</span>\n",
       "        <span class=\"k\">with</span> <span class=\"n\">R</span><span class=\"o\">.</span><span class=\"n\">dataflow</span><span class=\"p\">():</span>\n",
       "            <span class=\"n\">lv0</span> <span class=\"o\">=</span> <span class=\"n\">R</span><span class=\"o\">.</span><span class=\"n\">call_dps_packed</span><span class=\"p\">(</span><span class=\"s2\">&quot;computeInvR3&quot;</span><span class=\"p\">,</span> <span class=\"p\">(</span><span class=\"n\">dz</span><span class=\"p\">,</span> <span class=\"n\">dy</span><span class=\"p\">,</span> <span class=\"n\">dz</span><span class=\"p\">),</span> <span class=\"n\">out_sinfo</span><span class=\"o\">=</span><span class=\"n\">R</span><span class=\"o\">.</span><span class=\"n\">Tensor</span><span class=\"p\">((</span><span class=\"n\">n</span><span class=\"p\">,</span> <span class=\"n\">n</span><span class=\"p\">),</span> <span class=\"n\">dtype</span><span class=\"o\">=</span><span class=\"s2\">&quot;float32&quot;</span><span class=\"p\">))</span>\n",
       "            <span class=\"n\">R</span><span class=\"o\">.</span><span class=\"n\">output</span><span class=\"p\">(</span><span class=\"n\">lv0</span><span class=\"p\">)</span>\n",
       "        <span class=\"k\">return</span> <span class=\"n\">lv0</span>\n",
       "</pre></div>\n"
      ],
      "text/latex": [
       "\\begin{Verbatim}[commandchars=\\\\\\{\\}]\n",
       "\\PY{c+c1}{\\PYZsh{} from tvm.script import ir as I}\n",
       "\\PY{c+c1}{\\PYZsh{} from tvm.script import tir as T}\n",
       "\\PY{c+c1}{\\PYZsh{} from tvm.script import relax as R}\n",
       "\n",
       "\\PY{n+nd}{@I}\\PY{o}{.}\\PY{n}{ir\\PYZus{}module}\n",
       "\\PY{k}{class} \\PY{n+nc}{Module}\\PY{p}{:}\n",
       "    \\PY{n+nd}{@T}\\PY{o}{.}\\PY{n}{prim\\PYZus{}func}\n",
       "    \\PY{k}{def} \\PY{n+nf}{computeInvR3}\\PY{p}{(}\\PY{n}{dx}\\PY{p}{:} \\PY{n}{T}\\PY{o}{.}\\PY{n}{handle}\\PY{p}{,} \\PY{n}{dy}\\PY{p}{:} \\PY{n}{T}\\PY{o}{.}\\PY{n}{handle}\\PY{p}{,} \\PY{n}{dz}\\PY{p}{:} \\PY{n}{T}\\PY{o}{.}\\PY{n}{handle}\\PY{p}{,} \\PY{n}{inv\\PYZus{}R3}\\PY{p}{:} \\PY{n}{T}\\PY{o}{.}\\PY{n}{handle}\\PY{p}{)}\\PY{p}{:}\n",
       "        \\PY{n}{n} \\PY{o}{=} \\PY{n}{T}\\PY{o}{.}\\PY{n}{int64}\\PY{p}{(}\\PY{p}{)}\n",
       "        \\PY{n}{X} \\PY{o}{=} \\PY{n}{T}\\PY{o}{.}\\PY{n}{match\\PYZus{}buffer}\\PY{p}{(}\\PY{n}{dx}\\PY{p}{,} \\PY{p}{(}\\PY{n}{n}\\PY{p}{,} \\PY{n}{n}\\PY{p}{)}\\PY{p}{)}\n",
       "        \\PY{n}{Y} \\PY{o}{=} \\PY{n}{T}\\PY{o}{.}\\PY{n}{match\\PYZus{}buffer}\\PY{p}{(}\\PY{n}{dy}\\PY{p}{,} \\PY{p}{(}\\PY{n}{n}\\PY{p}{,} \\PY{n}{n}\\PY{p}{)}\\PY{p}{)}\n",
       "        \\PY{n}{Z} \\PY{o}{=} \\PY{n}{T}\\PY{o}{.}\\PY{n}{match\\PYZus{}buffer}\\PY{p}{(}\\PY{n}{dz}\\PY{p}{,} \\PY{p}{(}\\PY{n}{n}\\PY{p}{,} \\PY{n}{n}\\PY{p}{)}\\PY{p}{)}\n",
       "        \\PY{n}{INV\\PYZus{}R3} \\PY{o}{=} \\PY{n}{T}\\PY{o}{.}\\PY{n}{match\\PYZus{}buffer}\\PY{p}{(}\\PY{n}{inv\\PYZus{}R3}\\PY{p}{,} \\PY{p}{(}\\PY{n}{n}\\PY{p}{,} \\PY{n}{n}\\PY{p}{)}\\PY{p}{)}\n",
       "        \\PY{c+c1}{\\PYZsh{} with T.block(\\PYZdq{}root\\PYZdq{}):}\n",
       "        \\PY{k}{for} \\PY{n}{i}\\PY{p}{,} \\PY{n}{j} \\PY{o+ow}{in} \\PY{n}{T}\\PY{o}{.}\\PY{n}{grid}\\PY{p}{(}\\PY{n}{n}\\PY{p}{,} \\PY{n}{n}\\PY{p}{)}\\PY{p}{:}\n",
       "            \\PY{k}{with} \\PY{n}{T}\\PY{o}{.}\\PY{n}{block}\\PY{p}{(}\\PY{l+s+s2}{\\PYZdq{}}\\PY{l+s+s2}{INV\\PYZus{}R3}\\PY{l+s+s2}{\\PYZdq{}}\\PY{p}{)}\\PY{p}{:}\n",
       "                \\PY{n}{vi}\\PY{p}{,} \\PY{n}{vj} \\PY{o}{=} \\PY{n}{T}\\PY{o}{.}\\PY{n}{axis}\\PY{o}{.}\\PY{n}{remap}\\PY{p}{(}\\PY{l+s+s2}{\\PYZdq{}}\\PY{l+s+s2}{SS}\\PY{l+s+s2}{\\PYZdq{}}\\PY{p}{,} \\PY{p}{[}\\PY{n}{i}\\PY{p}{,} \\PY{n}{j}\\PY{p}{]}\\PY{p}{)}\n",
       "                \\PY{n}{T}\\PY{o}{.}\\PY{n}{reads}\\PY{p}{(}\\PY{n}{X}\\PY{p}{[}\\PY{n}{vi}\\PY{p}{,} \\PY{n}{vj}\\PY{p}{]}\\PY{p}{,} \\PY{n}{Y}\\PY{p}{[}\\PY{n}{vi}\\PY{p}{,} \\PY{n}{vj}\\PY{p}{]}\\PY{p}{,} \\PY{n}{Z}\\PY{p}{[}\\PY{n}{vi}\\PY{p}{,} \\PY{n}{vj}\\PY{p}{]}\\PY{p}{,} \\PY{n}{INV\\PYZus{}R3}\\PY{p}{[}\\PY{n}{vi}\\PY{p}{,} \\PY{n}{vj}\\PY{p}{]}\\PY{p}{)}\n",
       "                \\PY{n}{T}\\PY{o}{.}\\PY{n}{writes}\\PY{p}{(}\\PY{n}{INV\\PYZus{}R3}\\PY{p}{[}\\PY{n}{vi}\\PY{p}{,} \\PY{n}{vj}\\PY{p}{]}\\PY{p}{)}\n",
       "                \\PY{n}{INV\\PYZus{}R3}\\PY{p}{[}\\PY{n}{vi}\\PY{p}{,} \\PY{n}{vj}\\PY{p}{]} \\PY{o}{=} \\PY{n}{T}\\PY{o}{.}\\PY{n}{pow}\\PY{p}{(}\\PY{n}{X}\\PY{p}{[}\\PY{n}{vi}\\PY{p}{,} \\PY{n}{vj}\\PY{p}{]}\\PY{p}{,} \\PY{n}{T}\\PY{o}{.}\\PY{n}{float32}\\PY{p}{(}\\PY{l+m+mi}{2}\\PY{p}{)}\\PY{p}{)} \\PY{o}{+} \\PY{n}{T}\\PY{o}{.}\\PY{n}{pow}\\PY{p}{(}\\PY{n}{Y}\\PY{p}{[}\\PY{n}{vi}\\PY{p}{,} \\PY{n}{vj}\\PY{p}{]}\\PY{p}{,} \\PY{n}{T}\\PY{o}{.}\\PY{n}{float32}\\PY{p}{(}\\PY{l+m+mi}{2}\\PY{p}{)}\\PY{p}{)} \\PY{o}{+} \\PY{n}{T}\\PY{o}{.}\\PY{n}{pow}\\PY{p}{(}\\PY{n}{Z}\\PY{p}{[}\\PY{n}{vi}\\PY{p}{,} \\PY{n}{vj}\\PY{p}{]}\\PY{p}{,} \\PY{n}{T}\\PY{o}{.}\\PY{n}{float32}\\PY{p}{(}\\PY{l+m+mi}{2}\\PY{p}{)}\\PY{p}{)} \\PY{o}{+} \\PY{n}{T}\\PY{o}{.}\\PY{n}{float32}\\PY{p}{(}\\PY{l+m+mf}{0.010000000000000002}\\PY{p}{)}\n",
       "                \\PY{k}{if} \\PY{n}{INV\\PYZus{}R3}\\PY{p}{[}\\PY{n}{vi}\\PY{p}{,} \\PY{n}{vj}\\PY{p}{]} \\PY{o}{\\PYZgt{}} \\PY{n}{T}\\PY{o}{.}\\PY{n}{float32}\\PY{p}{(}\\PY{l+m+mi}{0}\\PY{p}{)}\\PY{p}{:}\n",
       "                    \\PY{n}{INV\\PYZus{}R3}\\PY{p}{[}\\PY{n}{vi}\\PY{p}{,} \\PY{n}{vj}\\PY{p}{]} \\PY{o}{=} \\PY{n}{T}\\PY{o}{.}\\PY{n}{pow}\\PY{p}{(}\\PY{n}{INV\\PYZus{}R3}\\PY{p}{[}\\PY{n}{vi}\\PY{p}{,} \\PY{n}{vj}\\PY{p}{]}\\PY{p}{,} \\PY{n}{T}\\PY{o}{.}\\PY{n}{float32}\\PY{p}{(}\\PY{o}{\\PYZhy{}}\\PY{l+m+mf}{1.5}\\PY{p}{)}\\PY{p}{)}\n",
       "\n",
       "    \\PY{n+nd}{@R}\\PY{o}{.}\\PY{n}{function}\n",
       "    \\PY{k}{def} \\PY{n+nf}{main}\\PY{p}{(}\\PY{n}{dx}\\PY{p}{:} \\PY{n}{R}\\PY{o}{.}\\PY{n}{Tensor}\\PY{p}{(}\\PY{p}{(}\\PY{l+s+s2}{\\PYZdq{}}\\PY{l+s+s2}{n}\\PY{l+s+s2}{\\PYZdq{}}\\PY{p}{,} \\PY{l+s+s2}{\\PYZdq{}}\\PY{l+s+s2}{n}\\PY{l+s+s2}{\\PYZdq{}}\\PY{p}{)}\\PY{p}{,} \\PY{n}{dtype}\\PY{o}{=}\\PY{l+s+s2}{\\PYZdq{}}\\PY{l+s+s2}{float32}\\PY{l+s+s2}{\\PYZdq{}}\\PY{p}{)}\\PY{p}{,} \\PY{n}{dy}\\PY{p}{:} \\PY{n}{R}\\PY{o}{.}\\PY{n}{Tensor}\\PY{p}{(}\\PY{p}{(}\\PY{l+s+s2}{\\PYZdq{}}\\PY{l+s+s2}{n}\\PY{l+s+s2}{\\PYZdq{}}\\PY{p}{,} \\PY{l+s+s2}{\\PYZdq{}}\\PY{l+s+s2}{n}\\PY{l+s+s2}{\\PYZdq{}}\\PY{p}{)}\\PY{p}{,} \\PY{n}{dtype}\\PY{o}{=}\\PY{l+s+s2}{\\PYZdq{}}\\PY{l+s+s2}{float32}\\PY{l+s+s2}{\\PYZdq{}}\\PY{p}{)}\\PY{p}{,} \\PY{n}{dz}\\PY{p}{:} \\PY{n}{R}\\PY{o}{.}\\PY{n}{Tensor}\\PY{p}{(}\\PY{p}{(}\\PY{l+s+s2}{\\PYZdq{}}\\PY{l+s+s2}{n}\\PY{l+s+s2}{\\PYZdq{}}\\PY{p}{,} \\PY{l+s+s2}{\\PYZdq{}}\\PY{l+s+s2}{n}\\PY{l+s+s2}{\\PYZdq{}}\\PY{p}{)}\\PY{p}{,} \\PY{n}{dtype}\\PY{o}{=}\\PY{l+s+s2}{\\PYZdq{}}\\PY{l+s+s2}{float32}\\PY{l+s+s2}{\\PYZdq{}}\\PY{p}{)}\\PY{p}{)} \\PY{o}{\\PYZhy{}}\\PY{o}{\\PYZgt{}} \\PY{n}{R}\\PY{o}{.}\\PY{n}{Tensor}\\PY{p}{(}\\PY{p}{(}\\PY{l+s+s2}{\\PYZdq{}}\\PY{l+s+s2}{n}\\PY{l+s+s2}{\\PYZdq{}}\\PY{p}{,} \\PY{l+s+s2}{\\PYZdq{}}\\PY{l+s+s2}{n}\\PY{l+s+s2}{\\PYZdq{}}\\PY{p}{)}\\PY{p}{,} \\PY{n}{dtype}\\PY{o}{=}\\PY{l+s+s2}{\\PYZdq{}}\\PY{l+s+s2}{float32}\\PY{l+s+s2}{\\PYZdq{}}\\PY{p}{)}\\PY{p}{:}\n",
       "        \\PY{n}{n} \\PY{o}{=} \\PY{n}{T}\\PY{o}{.}\\PY{n}{int64}\\PY{p}{(}\\PY{p}{)}\n",
       "        \\PY{k}{with} \\PY{n}{R}\\PY{o}{.}\\PY{n}{dataflow}\\PY{p}{(}\\PY{p}{)}\\PY{p}{:}\n",
       "            \\PY{n}{lv0} \\PY{o}{=} \\PY{n}{R}\\PY{o}{.}\\PY{n}{call\\PYZus{}dps\\PYZus{}packed}\\PY{p}{(}\\PY{l+s+s2}{\\PYZdq{}}\\PY{l+s+s2}{computeInvR3}\\PY{l+s+s2}{\\PYZdq{}}\\PY{p}{,} \\PY{p}{(}\\PY{n}{dz}\\PY{p}{,} \\PY{n}{dy}\\PY{p}{,} \\PY{n}{dz}\\PY{p}{)}\\PY{p}{,} \\PY{n}{out\\PYZus{}sinfo}\\PY{o}{=}\\PY{n}{R}\\PY{o}{.}\\PY{n}{Tensor}\\PY{p}{(}\\PY{p}{(}\\PY{n}{n}\\PY{p}{,} \\PY{n}{n}\\PY{p}{)}\\PY{p}{,} \\PY{n}{dtype}\\PY{o}{=}\\PY{l+s+s2}{\\PYZdq{}}\\PY{l+s+s2}{float32}\\PY{l+s+s2}{\\PYZdq{}}\\PY{p}{)}\\PY{p}{)}\n",
       "            \\PY{n}{R}\\PY{o}{.}\\PY{n}{output}\\PY{p}{(}\\PY{n}{lv0}\\PY{p}{)}\n",
       "        \\PY{k}{return} \\PY{n}{lv0}\n",
       "\\end{Verbatim}\n"
      ],
      "text/plain": [
       "# from tvm.script import ir as I\n",
       "# from tvm.script import tir as T\n",
       "# from tvm.script import relax as R\n",
       "\n",
       "@I.ir_module\n",
       "class Module:\n",
       "    @T.prim_func\n",
       "    def computeInvR3(dx: T.handle, dy: T.handle, dz: T.handle, inv_R3: T.handle):\n",
       "        n = T.int64()\n",
       "        X = T.match_buffer(dx, (n, n))\n",
       "        Y = T.match_buffer(dy, (n, n))\n",
       "        Z = T.match_buffer(dz, (n, n))\n",
       "        INV_R3 = T.match_buffer(inv_R3, (n, n))\n",
       "        # with T.block(\"root\"):\n",
       "        for i, j in T.grid(n, n):\n",
       "            with T.block(\"INV_R3\"):\n",
       "                vi, vj = T.axis.remap(\"SS\", [i, j])\n",
       "                T.reads(X[vi, vj], Y[vi, vj], Z[vi, vj], INV_R3[vi, vj])\n",
       "                T.writes(INV_R3[vi, vj])\n",
       "                INV_R3[vi, vj] = T.pow(X[vi, vj], T.float32(2)) + T.pow(Y[vi, vj], T.float32(2)) + T.pow(Z[vi, vj], T.float32(2)) + T.float32(0.010000000000000002)\n",
       "                if INV_R3[vi, vj] > T.float32(0):\n",
       "                    INV_R3[vi, vj] = T.pow(INV_R3[vi, vj], T.float32(-1.5))\n",
       "\n",
       "    @R.function\n",
       "    def main(dx: R.Tensor((\"n\", \"n\"), dtype=\"float32\"), dy: R.Tensor((\"n\", \"n\"), dtype=\"float32\"), dz: R.Tensor((\"n\", \"n\"), dtype=\"float32\")) -> R.Tensor((\"n\", \"n\"), dtype=\"float32\"):\n",
       "        n = T.int64()\n",
       "        with R.dataflow():\n",
       "            lv0 = R.call_dps_packed(\"computeInvR3\", (dz, dy, dz), out_sinfo=R.Tensor((n, n), dtype=\"float32\"))\n",
       "            R.output(lv0)\n",
       "        return lv0"
      ]
     },
     "execution_count": 74,
     "metadata": {},
     "output_type": "execute_result"
    }
   ],
   "source": [
    "IPython.display.Code(NBodyModule.script(), language=\"python\")"
   ]
  },
  {
   "cell_type": "code",
   "execution_count": 75,
   "id": "e7d8b6cb-c787-4686-b0d8-dc51a2fc3832",
   "metadata": {},
   "outputs": [
    {
     "data": {
      "text/plain": [
       "tvm.relax.vm_build.Executable"
      ]
     },
     "execution_count": 75,
     "metadata": {},
     "output_type": "execute_result"
    }
   ],
   "source": [
    "ex = relax.build(NBodyModule, target=\"llvm\")\n",
    "type(ex)"
   ]
  },
  {
   "cell_type": "code",
   "execution_count": 76,
   "id": "9fc90a69-0407-4421-a829-7f49804289ee",
   "metadata": {},
   "outputs": [],
   "source": [
    "vm = relax.VirtualMachine(ex, tvm.cpu())"
   ]
  },
  {
   "cell_type": "code",
   "execution_count": 77,
   "id": "f5ea6e85-d457-41b0-af07-15cc4f1363ca",
   "metadata": {},
   "outputs": [],
   "source": [
    "N = 2000\n",
    "dx = tvm.nd.array(np.random.randn(N, N).astype(\"float32\"))\n",
    "dy = tvm.nd.array(np.random.randn(N, N).astype(\"float32\"))\n",
    "dz = tvm.nd.array(np.random.randn(N, N).astype(\"float32\"))"
   ]
  },
  {
   "cell_type": "code",
   "execution_count": 78,
   "id": "16a12dbc-3eb6-427a-8c67-08d16d588b3f",
   "metadata": {},
   "outputs": [
    {
     "name": "stdout",
     "output_type": "stream",
     "text": [
      "Total time is: 2.36555552482605\n"
     ]
    }
   ],
   "source": [
    "t0 = time.time()\n",
    "for i in range(100):\n",
    "    inv_R3 = vm[\"main\"](dz, dy, dz)\n",
    "t1 = time.time()\n",
    "\n",
    "print(\"Total time is:\",t1 - t0)"
   ]
  },
  {
   "cell_type": "code",
   "execution_count": 79,
   "id": "47659c06-27fd-4f70-a836-00026f7ea374",
   "metadata": {},
   "outputs": [
    {
     "data": {
      "text/plain": [
       "(2000, 2000)"
      ]
     },
     "execution_count": 79,
     "metadata": {},
     "output_type": "execute_result"
    }
   ],
   "source": [
    "inv_R3.numpy().shape"
   ]
  },
  {
   "cell_type": "code",
   "execution_count": 83,
   "id": "d21009b8-2d0e-4f3f-87ee-7bcbbe9437ae",
   "metadata": {},
   "outputs": [
    {
     "data": {
      "text/plain": [
       "'# from tvm.script import ir as I\\n# from tvm.script import tir as T\\n\\n@I.ir_module\\nclass Module:\\n    @T.prim_func\\n    def main(dx: T.handle, dy: T.handle, dz: T.handle, inv_R3: T.handle):\\n        n = T.int64()\\n        X = T.match_buffer(dx, (n, n))\\n        Y = T.match_buffer(dy, (n, n))\\n        Z = T.match_buffer(dz, (n, n))\\n        INV_R3 = T.match_buffer(inv_R3, (n, n))\\n        # with T.block(\"root\"):\\n        for i, j in T.grid(n, n):\\n            with T.block(\"INV_R3\"):\\n                vi, vj = T.axis.remap(\"SS\", [i, j])\\n                T.reads(X[vi, vj], Y[vi, vj], Z[vi, vj], INV_R3[vi, vj])\\n                T.writes(INV_R3[vi, vj])\\n                INV_R3[vi, vj] = T.pow(X[vi, vj], T.float32(2)) + T.pow(Y[vi, vj], T.float32(2)) + T.pow(Z[vi, vj], T.float32(2)) + T.float32(0.010000000000000002)\\n                if INV_R3[vi, vj] > T.float32(0):\\n                    INV_R3[vi, vj] = T.pow(INV_R3[vi, vj], T.float32(-1.5))'"
      ]
     },
     "execution_count": 83,
     "metadata": {},
     "output_type": "execute_result"
    }
   ],
   "source": [
    "mod_inv_R3 = tvm.IRModule.from_expr(NBodyModule[\"computeInvR3\"].with_attr(\"global_symbol\", \"main\"))\n",
    "mod_inv_R3.script()"
   ]
  },
  {
   "cell_type": "code",
   "execution_count": 95,
   "id": "47aae261-f6e6-4798-a3c6-f6604ab3b46b",
   "metadata": {},
   "outputs": [
    {
     "name": "stdout",
     "output_type": "stream",
     "text": [
      "2023-11-07 12:38:18 [INFO] Logging directory: ./tune_tmp/logs\n",
      "2023-11-07 12:38:18 [INFO] LocalBuilder: max_workers = 8\n",
      "2023-11-07 12:38:18 [INFO] LocalRunner: max_workers = 1\n",
      "2023-11-07 12:38:19 [INFO] [task_scheduler.cc:159] Initializing Task #0: \"main\"\n"
     ]
    },
    {
     "ename": "ScheduleError",
     "evalue": "Traceback (most recent call last):\n  9: _ZN3tvm7runtime13Packed\n  8: tvm::runtime::TypedPackedFunc<void (tvm::meta_schedule::TaskScheduler, tvm::runtime::Array<tvm::meta_schedule::TuneContext, void>, tvm::runtime::Array<tvm::FloatImm, void>, int, int, int, tvm::meta_schedule::Builder, tvm::meta_schedule::Runner, tvm::runtime::Array<tvm::meta_schedule::MeasureCallback, void>, tvm::runtime::Optional<tvm::meta_schedule::Database>, tvm::runtime::Optional<tvm::meta_schedule::CostModel>)>::AssignTypedLambda<tvm::runtime::Registry::set_body_method<tvm::meta_schedule::TaskScheduler, tvm::meta_schedule::TaskSchedulerNode, void, tvm::runtime::Array<tvm::meta_schedule::TuneContext, void>, tvm::runtime::Array<tvm::FloatImm, void>, int, int, int, tvm::meta_schedule::Builder, tvm::meta_schedule::Runner, tvm::runtime::Array<tvm::meta_schedule::MeasureCallback, void>, tvm::runtime::Optional<tvm::meta_schedule::Database>, tvm::runtime::Optional<tvm::meta_schedule::CostModel>, void>(void (tvm::meta_schedule::TaskSchedulerNode::*)(tvm::runtime::Array<tvm::meta_schedule::TuneContext, void>, tvm::runtime::Array<tvm::FloatImm, void>, int, int, int, tvm::meta_schedule::Builder, tvm::meta_schedule::Runner, tvm::runtime::Array<tvm::meta_schedule::MeasureCallback, void>, tvm::runtime::Optional<tvm::meta_schedule::Database>, tvm::runtime::Optional<tvm::meta_schedule::CostModel>))::{lambda(tvm::meta_schedule::TaskScheduler, tvm::runtime::Array<tvm::meta_schedule::TuneContext, void>, tvm::runtime::Array<tvm::FloatImm, void>, int, int, int, tvm::meta_schedule::Builder, tvm::meta_schedule::Runner, tvm::runtime::Array<tvm::meta_schedule::MeasureCallback, void>, tvm::runtime::Optional<tvm::meta_schedule::Database>, tvm::runtime::Optional<tvm::meta_schedule::CostModel>)#1}>(tvm::runtime::Registry::set_body_method<tvm::meta_schedule::TaskScheduler, tvm::meta_schedule::TaskSchedulerNode, void, tvm::runtime::Array<tvm::meta_schedule::TuneContext, void>, tvm::runtime::Array<tvm::FloatImm, void>, int, int, int, tvm::meta_schedule::Builder, tvm::meta_schedule::Runner, tvm::runtime::Array<tvm::meta_schedule::MeasureCallback, void>, tvm::runtime::Optional<tvm::meta_schedule::Database>, tvm::runtime::Optional<tvm::meta_schedule::CostModel>, void>(void (tvm::meta_schedule::TaskSchedulerNode::*)(tvm::runtime::Array<tvm::meta_schedule::TuneContext, void>, tvm::runtime::Array<tvm::FloatImm, void>, int, int, int, tvm::meta_schedule::Builder, tvm::meta_schedule::Runner, tvm::runtime::Array<tvm::meta_schedule::MeasureCallback, void>, tvm::runtime::Optional<tvm::meta_schedule::Database>, tvm::runtime::Optional<tvm::meta_schedule::CostModel>))::{lambda(tvm::meta_schedule::TaskScheduler, tvm::runtime::Array<tvm::meta_schedule::TuneContext, void>, tvm::runtime::Array<tvm::FloatImm, void>, int, int, int, tvm::meta_schedule::Builder, tvm::meta_schedule::Runner, tvm::runtime::Array<tvm::meta_schedule::MeasureCallback, void>, tvm::runtime::Optional<tvm::meta_schedule::Database>, tvm::runtime::Optional<tvm::meta_schedule::CostModel>)#1}, std::__cxx11::basic_string<char, std::char_traits<char>, std::allocator<char> >)::{lambda(tvm::runtime::TVMArgs const&, tvm::runtime::TVMRetValue*)#1}::operator()(tvm::runtime::TVMArgs const&, tvm::runtime::TVMRetValue*) const [clone .isra.0]\n  7: tvm::meta_schedule::GradientBasedNode::Tune(tvm::runtime::Array<tvm::meta_schedule::TuneContext, void>, tvm::runtime::Array<tvm::FloatImm, void>, int, int, int, tvm::meta_schedule::Builder, tvm::meta_schedule::Runner, tvm::runtime::Array<tvm::meta_schedule::MeasureCallback, void>, tvm::runtime::Optional<tvm::meta_schedule::Database>, tvm::runtime::Optional<tvm::meta_schedule::CostModel>)\n  6: tvm::meta_schedule::TaskSchedulerNode::Tune(tvm::runtime::Array<tvm::meta_schedule::TuneContext, void>, tvm::runtime::Array<tvm::FloatImm, void>, int, int, int, tvm::meta_schedule::Builder, tvm::meta_schedule::Runner, tvm::runtime::Array<tvm::meta_schedule::MeasureCallback, void>, tvm::runtime::Optional<tvm::meta_schedule::Database>, tvm::runtime::Optional<tvm::meta_schedule::CostModel>)\n  5: tvm::meta_schedule::PostOrderApplyNode::GenerateDesignSpace(tvm::IRModule const&)\n  4: tvm::meta_schedule::AutoBindNode::Apply(tvm::tir::Schedule const&, tvm::tir::BlockRV const&)\n  3: tvm::meta_schedule::BindBlockThreadIdx(tvm::tir::Schedule, tvm::tir::BlockRV, long, long, std::function<tvm::PrimExpr (long)>)\n  2: tvm::meta_schedule::BindSpatialLoop(tvm::tir::Schedule, tvm::tir::LoopRV, long, long, std::function<tvm::PrimExpr (long)>)\n  1: tvm::tir::TracedScheduleNode::Bind(tvm::tir::LoopRV const&, tvm::runtime::String const&)\n  0: tvm::tir::ConcreteScheduleNode::Bind(tvm::tir::LoopRV const&, tvm::runtime::String const&) [clone .cold]\nScheduleError: An error occurred in the schedule primitive 'bind'.\nThe IR with diagnostic is:\n# from tvm.script import ir as I\n# from tvm.script import tir as T\n\n@I.ir_module\nclass Module:\n    @T.prim_func\n    def main(dx: T.handle, dy: T.handle, dz: T.handle, inv_R3: T.handle):\n        T.func_attr({\"tir.noalias\": T.bool(True)})\n        n = T.int64()\n        X = T.match_buffer(dx, (n, n))\n        Y = T.match_buffer(dy, (n, n))\n        Z = T.match_buffer(dz, (n, n))\n        INV_R3 = T.match_buffer(inv_R3, (n, n))\n        with T.block(\"root\"):\n            T.reads()\n            T.writes()\n            # tir.For#0\n            for i_j_fused_1 in range(T.int64(256)):\n            ^^^^^^^^^^^^^^^^^^^^^^^^^^^^^^^^^^^^^^^\n                for i_j_fused_2 in range(T.int64(1024)):\n                ^^^^^^^^^^^^^^^^^^^^^^^^^^^^^^^^^^^^^^^^\n                    for i_j_fused_0 in range((n * n + T.int64(262143)) // T.int64(262144)):\n                    ^^^^^^^^^^^^^^^^^^^^^^^^^^^^^^^^^^^^^^^^^^^^^^^^^^^^^^^^^^^^^^^^^^^^^^^\n                        # tir.Block#1\n                        with T.block(\"INV_R3\"):\n                        ^^^^^^^^^^^^^^^^^^^^^^^\n                            vi = T.axis.spatial(n, (i_j_fused_0 * T.int64(262144) + i_j_fused_1 * T.int64(1024) + i_j_fused_2) // n)\n                            ^^^^^^^^^^^^^^^^^^^^^^^^^^^^^^^^^^^^^^^^^^^^^^^^^^^^^^^^^^^^^^^^^^^^^^^^^^^^^^^^^^^^^^^^^^^^^^^^^^^^^^^^\n                            vj = T.axis.spatial(n, (i_j_fused_0 * T.int64(262144) + i_j_fused_1 * T.int64(1024) + i_j_fused_2) % n)\n                            ^^^^^^^^^^^^^^^^^^^^^^^^^^^^^^^^^^^^^^^^^^^^^^^^^^^^^^^^^^^^^^^^^^^^^^^^^^^^^^^^^^^^^^^^^^^^^^^^^^^^^^^\n                            T.where((i_j_fused_0 * T.int64(256) + i_j_fused_1) * T.int64(1024) + i_j_fused_2 < n * n)\n                            ^^^^^^^^^^^^^^^^^^^^^^^^^^^^^^^^^^^^^^^^^^^^^^^^^^^^^^^^^^^^^^^^^^^^^^^^^^^^^^^^^^^^^^^^^\n                            T.reads(X[vi, vj], Y[vi, vj], Z[vi, vj], INV_R3[vi, vj])\n                            ^^^^^^^^^^^^^^^^^^^^^^^^^^^^^^^^^^^^^^^^^^^^^^^^^^^^^^^^\n                            T.writes(INV_R3[vi, vj])\n                            ^^^^^^^^^^^^^^^^^^^^^^^^\n                            INV_R3[vi, vj] = T.pow(X[vi, vj], T.float32(2)) + T.pow(Y[vi, vj], T.float32(2)) + T.pow(Z[vi, vj], T.float32(2)) + T.float32(0.010000000000000002)\n                            ^^^^^^^^^^^^^^^^^^^^^^^^^^^^^^^^^^^^^^^^^^^^^^^^^^^^^^^^^^^^^^^^^^^^^^^^^^^^^^^^^^^^^^^^^^^^^^^^^^^^^^^^^^^^^^^^^^^^^^^^^^^^^^^^^^^^^^^^^^^^^^^^^^^\n                            if INV_R3[vi, vj] > T.float32(0):\n                            ^^^^^^^^^^^^^^^^^^^^^^^^^^^^^^^^^\n                                INV_R3[vi, vj] = T.pow(INV_R3[vi, vj], T.float32(-1.5))\n                                ^^^^^^^^^^^^^^^^^^^^^^^^^^^^^^^^^^^^^^^^^^^^^^^^^^^^^^^\nError message: The queried subtree root tir.For#0 in SRef tree does not have compact dataflow, because its child block tir.Block#1 on SRef tree is neither a local complete block nor a local reduction block.\nIt violates condition #3 as a local complete block.\nDefinition of a local complete block:\n1) All block vars are data parallel\n2) Local Dominant: the block is the only writer of its output, dominating the reader of its output buffers under a given subtree\n3) No overlap between the buffers the block reads and writes\nIt violates condition #1 as a local reduction block.\nDefinition of a reduction block:\n1) The block has the `init` statement\n2) All the block bindings are quasi-affine expressions\n3) All block vars are either data parallel block vars or reduction block vars\n4) Local Dominant: the block is the only writer of its output, dominating the reader of its output buffers under a given subtree\n5) The reduction block vars are not used to index the output buffers\n",
     "output_type": "error",
     "traceback": [
      "\u001b[0;31m---------------------------------------------------------------------------\u001b[0m",
      "\u001b[0;31mScheduleError\u001b[0m                             Traceback (most recent call last)",
      "Cell \u001b[0;32mIn[95], line 2\u001b[0m\n\u001b[1;32m      1\u001b[0m \u001b[38;5;28;01mfrom\u001b[39;00m \u001b[38;5;21;01mtvm\u001b[39;00m \u001b[38;5;28;01mimport\u001b[39;00m meta_schedule \u001b[38;5;28;01mas\u001b[39;00m ms\n\u001b[0;32m----> 2\u001b[0m database \u001b[38;5;241m=\u001b[39m \u001b[43mms\u001b[49m\u001b[38;5;241;43m.\u001b[39;49m\u001b[43mtune_tir\u001b[49m\u001b[43m(\u001b[49m\n\u001b[1;32m      3\u001b[0m \u001b[43m    \u001b[49m\u001b[43mmod\u001b[49m\u001b[38;5;241;43m=\u001b[39;49m\u001b[43mmod_inv_R3\u001b[49m\u001b[43m,\u001b[49m\n\u001b[1;32m      4\u001b[0m \u001b[43m    \u001b[49m\u001b[43mtarget\u001b[49m\u001b[38;5;241;43m=\u001b[39;49m\u001b[38;5;124;43m\"\u001b[39;49m\u001b[38;5;124;43mnvidia/geforce-rtx-3070\u001b[39;49m\u001b[38;5;124;43m\"\u001b[39;49m\u001b[43m,\u001b[49m\n\u001b[1;32m      5\u001b[0m \u001b[43m    \u001b[49m\u001b[43mmax_trials_global\u001b[49m\u001b[38;5;241;43m=\u001b[39;49m\u001b[38;5;241;43m6400\u001b[39;49m\u001b[43m,\u001b[49m\n\u001b[1;32m      6\u001b[0m \u001b[43m    \u001b[49m\u001b[43mnum_trials_per_iter\u001b[49m\u001b[38;5;241;43m=\u001b[39;49m\u001b[38;5;241;43m6400\u001b[39;49m\u001b[43m,\u001b[49m\n\u001b[1;32m      7\u001b[0m \u001b[43m    \u001b[49m\u001b[43mwork_dir\u001b[49m\u001b[38;5;241;43m=\u001b[39;49m\u001b[38;5;124;43m\"\u001b[39;49m\u001b[38;5;124;43m./tune_tmp\u001b[39;49m\u001b[38;5;124;43m\"\u001b[39;49m\u001b[43m,\u001b[49m\n\u001b[1;32m      8\u001b[0m \u001b[43m    \u001b[49m\u001b[38;5;66;43;03m# task_name=\"main\",\u001b[39;49;00m\n\u001b[1;32m      9\u001b[0m \u001b[43m)\u001b[49m\n\u001b[1;32m     10\u001b[0m sch \u001b[38;5;241m=\u001b[39m ms\u001b[38;5;241m.\u001b[39mtir_integration\u001b[38;5;241m.\u001b[39mcompile_tir(database, mod_inv_R3, \u001b[38;5;124m\"\u001b[39m\u001b[38;5;124mllvm --num-cores=1\u001b[39m\u001b[38;5;124m\"\u001b[39m)\n",
      "File \u001b[0;32m/usr/local/lib/python3.10/dist-packages/tvm/meta_schedule/tir_integration.py:145\u001b[0m, in \u001b[0;36mtune_tir\u001b[0;34m(mod, target, work_dir, max_trials_global, max_trials_per_task, num_trials_per_iter, builder, runner, database, cost_model, measure_callbacks, task_scheduler, space, strategy, num_tuning_cores, seed, module_equality, special_space)\u001b[0m\n\u001b[1;32m    132\u001b[0m         \u001b[38;5;28;01mcontinue\u001b[39;00m\n\u001b[1;32m    133\u001b[0m     tasks\u001b[38;5;241m.\u001b[39mappend(\n\u001b[1;32m    134\u001b[0m         TuneContext(\n\u001b[1;32m    135\u001b[0m             mod\u001b[38;5;241m=\u001b[39mtask_func,\n\u001b[0;32m   (...)\u001b[0m\n\u001b[1;32m    143\u001b[0m         )\u001b[38;5;241m.\u001b[39mclone()\n\u001b[1;32m    144\u001b[0m     )\n\u001b[0;32m--> 145\u001b[0m \u001b[38;5;28;01mreturn\u001b[39;00m \u001b[43mtune_tasks\u001b[49m\u001b[43m(\u001b[49m\n\u001b[1;32m    146\u001b[0m \u001b[43m    \u001b[49m\u001b[43mtasks\u001b[49m\u001b[38;5;241;43m=\u001b[39;49m\u001b[43mtasks\u001b[49m\u001b[43m,\u001b[49m\n\u001b[1;32m    147\u001b[0m \u001b[43m    \u001b[49m\u001b[43mtask_weights\u001b[49m\u001b[38;5;241;43m=\u001b[39;49m\u001b[43m[\u001b[49m\u001b[38;5;241;43m1.0\u001b[39;49m\u001b[43m]\u001b[49m\u001b[43m \u001b[49m\u001b[38;5;241;43m*\u001b[39;49m\u001b[43m \u001b[49m\u001b[38;5;28;43mlen\u001b[39;49m\u001b[43m(\u001b[49m\u001b[43mtasks\u001b[49m\u001b[43m)\u001b[49m\u001b[43m,\u001b[49m\n\u001b[1;32m    148\u001b[0m \u001b[43m    \u001b[49m\u001b[43mwork_dir\u001b[49m\u001b[38;5;241;43m=\u001b[39;49m\u001b[43mwork_dir\u001b[49m\u001b[43m,\u001b[49m\n\u001b[1;32m    149\u001b[0m \u001b[43m    \u001b[49m\u001b[43mmax_trials_global\u001b[49m\u001b[38;5;241;43m=\u001b[39;49m\u001b[43mmax_trials_global\u001b[49m\u001b[43m,\u001b[49m\n\u001b[1;32m    150\u001b[0m \u001b[43m    \u001b[49m\u001b[43mmax_trials_per_task\u001b[49m\u001b[38;5;241;43m=\u001b[39;49m\u001b[43mmax_trials_per_task\u001b[49m\u001b[43m,\u001b[49m\n\u001b[1;32m    151\u001b[0m \u001b[43m    \u001b[49m\u001b[43mnum_trials_per_iter\u001b[49m\u001b[38;5;241;43m=\u001b[39;49m\u001b[43mnum_trials_per_iter\u001b[49m\u001b[43m,\u001b[49m\n\u001b[1;32m    152\u001b[0m \u001b[43m    \u001b[49m\u001b[43mbuilder\u001b[49m\u001b[38;5;241;43m=\u001b[39;49m\u001b[43mbuilder\u001b[49m\u001b[43m,\u001b[49m\n\u001b[1;32m    153\u001b[0m \u001b[43m    \u001b[49m\u001b[43mrunner\u001b[49m\u001b[38;5;241;43m=\u001b[39;49m\u001b[43mrunner\u001b[49m\u001b[43m,\u001b[49m\n\u001b[1;32m    154\u001b[0m \u001b[43m    \u001b[49m\u001b[43mdatabase\u001b[49m\u001b[38;5;241;43m=\u001b[39;49m\u001b[43mdatabase\u001b[49m\u001b[43m,\u001b[49m\n\u001b[1;32m    155\u001b[0m \u001b[43m    \u001b[49m\u001b[43mcost_model\u001b[49m\u001b[38;5;241;43m=\u001b[39;49m\u001b[43mcost_model\u001b[49m\u001b[43m,\u001b[49m\n\u001b[1;32m    156\u001b[0m \u001b[43m    \u001b[49m\u001b[43mmeasure_callbacks\u001b[49m\u001b[38;5;241;43m=\u001b[39;49m\u001b[43mmeasure_callbacks\u001b[49m\u001b[43m,\u001b[49m\n\u001b[1;32m    157\u001b[0m \u001b[43m    \u001b[49m\u001b[43mtask_scheduler\u001b[49m\u001b[38;5;241;43m=\u001b[39;49m\u001b[43mtask_scheduler\u001b[49m\u001b[43m,\u001b[49m\n\u001b[1;32m    158\u001b[0m \u001b[43m    \u001b[49m\u001b[43mmodule_equality\u001b[49m\u001b[38;5;241;43m=\u001b[39;49m\u001b[43mmodule_equality\u001b[49m\u001b[43m,\u001b[49m\n\u001b[1;32m    159\u001b[0m \u001b[43m\u001b[49m\u001b[43m)\u001b[49m\n",
      "File \u001b[0;32m/usr/local/lib/python3.10/dist-packages/tvm/meta_schedule/tune.py:118\u001b[0m, in \u001b[0;36mtune_tasks\u001b[0;34m(tasks, task_weights, work_dir, max_trials_global, max_trials_per_task, num_trials_per_iter, builder, runner, database, cost_model, measure_callbacks, task_scheduler, module_equality)\u001b[0m\n\u001b[1;32m    116\u001b[0m \u001b[38;5;28;01mif\u001b[39;00m \u001b[38;5;129;01mnot\u001b[39;00m \u001b[38;5;28misinstance\u001b[39m(task_scheduler, TaskScheduler):\n\u001b[1;32m    117\u001b[0m     task_scheduler \u001b[38;5;241m=\u001b[39m TaskScheduler\u001b[38;5;241m.\u001b[39mcreate(task_scheduler)\n\u001b[0;32m--> 118\u001b[0m \u001b[43mtask_scheduler\u001b[49m\u001b[38;5;241;43m.\u001b[39;49m\u001b[43mtune\u001b[49m\u001b[43m(\u001b[49m\n\u001b[1;32m    119\u001b[0m \u001b[43m    \u001b[49m\u001b[43mtasks\u001b[49m\u001b[38;5;241;43m=\u001b[39;49m\u001b[43mtasks\u001b[49m\u001b[43m,\u001b[49m\n\u001b[1;32m    120\u001b[0m \u001b[43m    \u001b[49m\u001b[43mtask_weights\u001b[49m\u001b[38;5;241;43m=\u001b[39;49m\u001b[43mtask_weights\u001b[49m\u001b[43m,\u001b[49m\n\u001b[1;32m    121\u001b[0m \u001b[43m    \u001b[49m\u001b[43mmax_trials_global\u001b[49m\u001b[38;5;241;43m=\u001b[39;49m\u001b[43mmax_trials_global\u001b[49m\u001b[43m,\u001b[49m\n\u001b[1;32m    122\u001b[0m \u001b[43m    \u001b[49m\u001b[43mmax_trials_per_task\u001b[49m\u001b[38;5;241;43m=\u001b[39;49m\u001b[43mmax_trials_per_task\u001b[49m\u001b[43m,\u001b[49m\n\u001b[1;32m    123\u001b[0m \u001b[43m    \u001b[49m\u001b[43mnum_trials_per_iter\u001b[49m\u001b[38;5;241;43m=\u001b[39;49m\u001b[43mnum_trials_per_iter\u001b[49m\u001b[43m,\u001b[49m\n\u001b[1;32m    124\u001b[0m \u001b[43m    \u001b[49m\u001b[43mbuilder\u001b[49m\u001b[38;5;241;43m=\u001b[39;49m\u001b[43mbuilder\u001b[49m\u001b[43m,\u001b[49m\n\u001b[1;32m    125\u001b[0m \u001b[43m    \u001b[49m\u001b[43mrunner\u001b[49m\u001b[38;5;241;43m=\u001b[39;49m\u001b[43mrunner\u001b[49m\u001b[43m,\u001b[49m\n\u001b[1;32m    126\u001b[0m \u001b[43m    \u001b[49m\u001b[43mmeasure_callbacks\u001b[49m\u001b[38;5;241;43m=\u001b[39;49m\u001b[43mmeasure_callbacks\u001b[49m\u001b[43m,\u001b[49m\n\u001b[1;32m    127\u001b[0m \u001b[43m    \u001b[49m\u001b[43mdatabase\u001b[49m\u001b[38;5;241;43m=\u001b[39;49m\u001b[43mdatabase\u001b[49m\u001b[43m,\u001b[49m\n\u001b[1;32m    128\u001b[0m \u001b[43m    \u001b[49m\u001b[43mcost_model\u001b[49m\u001b[38;5;241;43m=\u001b[39;49m\u001b[43mcost_model\u001b[49m\u001b[43m,\u001b[49m\n\u001b[1;32m    129\u001b[0m \u001b[43m\u001b[49m\u001b[43m)\u001b[49m\n\u001b[1;32m    130\u001b[0m \u001b[38;5;28;01mreturn\u001b[39;00m database\n",
      "File \u001b[0;32m/usr/local/lib/python3.10/dist-packages/tvm/meta_schedule/task_scheduler/task_scheduler.py:132\u001b[0m, in \u001b[0;36mTaskScheduler.tune\u001b[0;34m(self, tasks, task_weights, max_trials_global, max_trials_per_task, num_trials_per_iter, builder, runner, measure_callbacks, database, cost_model)\u001b[0m\n\u001b[1;32m    106\u001b[0m \u001b[38;5;250m\u001b[39m\u001b[38;5;124;03m\"\"\"Auto-tuning.\u001b[39;00m\n\u001b[1;32m    107\u001b[0m \n\u001b[1;32m    108\u001b[0m \u001b[38;5;124;03mParameters\u001b[39;00m\n\u001b[0;32m   (...)\u001b[0m\n\u001b[1;32m    129\u001b[0m \u001b[38;5;124;03m    The cost model.\u001b[39;00m\n\u001b[1;32m    130\u001b[0m \u001b[38;5;124;03m\"\"\"\u001b[39;00m\n\u001b[1;32m    131\u001b[0m task_weights \u001b[38;5;241m=\u001b[39m [\u001b[38;5;28mfloat\u001b[39m(w) \u001b[38;5;28;01mfor\u001b[39;00m w \u001b[38;5;129;01min\u001b[39;00m task_weights]\n\u001b[0;32m--> 132\u001b[0m \u001b[43m_ffi_api\u001b[49m\u001b[38;5;241;43m.\u001b[39;49m\u001b[43mTaskSchedulerTune\u001b[49m\u001b[43m(\u001b[49m\u001b[43m  \u001b[49m\u001b[38;5;66;43;03m# type: ignore # pylint: disable=no-member\u001b[39;49;00m\n\u001b[1;32m    133\u001b[0m \u001b[43m    \u001b[49m\u001b[38;5;28;43mself\u001b[39;49m\u001b[43m,\u001b[49m\n\u001b[1;32m    134\u001b[0m \u001b[43m    \u001b[49m\u001b[43mtasks\u001b[49m\u001b[43m,\u001b[49m\n\u001b[1;32m    135\u001b[0m \u001b[43m    \u001b[49m\u001b[43mtask_weights\u001b[49m\u001b[43m,\u001b[49m\n\u001b[1;32m    136\u001b[0m \u001b[43m    \u001b[49m\u001b[43mmax_trials_global\u001b[49m\u001b[43m,\u001b[49m\n\u001b[1;32m    137\u001b[0m \u001b[43m    \u001b[49m\u001b[43mmax_trials_per_task\u001b[49m\u001b[43m,\u001b[49m\n\u001b[1;32m    138\u001b[0m \u001b[43m    \u001b[49m\u001b[43mnum_trials_per_iter\u001b[49m\u001b[43m,\u001b[49m\n\u001b[1;32m    139\u001b[0m \u001b[43m    \u001b[49m\u001b[43mbuilder\u001b[49m\u001b[43m,\u001b[49m\n\u001b[1;32m    140\u001b[0m \u001b[43m    \u001b[49m\u001b[43mrunner\u001b[49m\u001b[43m,\u001b[49m\n\u001b[1;32m    141\u001b[0m \u001b[43m    \u001b[49m\u001b[43mmeasure_callbacks\u001b[49m\u001b[43m,\u001b[49m\n\u001b[1;32m    142\u001b[0m \u001b[43m    \u001b[49m\u001b[43mdatabase\u001b[49m\u001b[43m,\u001b[49m\n\u001b[1;32m    143\u001b[0m \u001b[43m    \u001b[49m\u001b[43mcost_model\u001b[49m\u001b[43m,\u001b[49m\n\u001b[1;32m    144\u001b[0m \u001b[43m\u001b[49m\u001b[43m)\u001b[49m\n",
      "File \u001b[0;32mtvm/_ffi/_cython/./packed_func.pxi:332\u001b[0m, in \u001b[0;36mtvm._ffi._cy3.core.PackedFuncBase.__call__\u001b[0;34m()\u001b[0m\n",
      "File \u001b[0;32mtvm/_ffi/_cython/./packed_func.pxi:277\u001b[0m, in \u001b[0;36mtvm._ffi._cy3.core.FuncCall\u001b[0;34m()\u001b[0m\n",
      "File \u001b[0;32mtvm/_ffi/_cython/./base.pxi:182\u001b[0m, in \u001b[0;36mtvm._ffi._cy3.core.CHECK_CALL\u001b[0;34m()\u001b[0m\n",
      "File \u001b[0;32m/usr/local/lib/python3.10/dist-packages/tvm/_ffi/base.py:481\u001b[0m, in \u001b[0;36mraise_last_ffi_error\u001b[0;34m()\u001b[0m\n\u001b[1;32m    475\u001b[0m \u001b[38;5;66;03m# The exception PyObject may contain a large amount of state,\u001b[39;00m\n\u001b[1;32m    476\u001b[0m \u001b[38;5;66;03m# including all stack frames that may be inspected in a later\u001b[39;00m\n\u001b[1;32m    477\u001b[0m \u001b[38;5;66;03m# PDB post-mortem.  Therefore, we must make sure to remove the\u001b[39;00m\n\u001b[1;32m    478\u001b[0m \u001b[38;5;66;03m# underlying PyObject* from the C++ side after we retrieve it.\u001b[39;00m\n\u001b[1;32m    479\u001b[0m _LIB\u001b[38;5;241m.\u001b[39mTVMDropLastPythonError()\n\u001b[0;32m--> 481\u001b[0m \u001b[38;5;28;01mraise\u001b[39;00m py_err\n",
      "\u001b[0;31mScheduleError\u001b[0m: Traceback (most recent call last):\n  9: _ZN3tvm7runtime13Packed\n  8: tvm::runtime::TypedPackedFunc<void (tvm::meta_schedule::TaskScheduler, tvm::runtime::Array<tvm::meta_schedule::TuneContext, void>, tvm::runtime::Array<tvm::FloatImm, void>, int, int, int, tvm::meta_schedule::Builder, tvm::meta_schedule::Runner, tvm::runtime::Array<tvm::meta_schedule::MeasureCallback, void>, tvm::runtime::Optional<tvm::meta_schedule::Database>, tvm::runtime::Optional<tvm::meta_schedule::CostModel>)>::AssignTypedLambda<tvm::runtime::Registry::set_body_method<tvm::meta_schedule::TaskScheduler, tvm::meta_schedule::TaskSchedulerNode, void, tvm::runtime::Array<tvm::meta_schedule::TuneContext, void>, tvm::runtime::Array<tvm::FloatImm, void>, int, int, int, tvm::meta_schedule::Builder, tvm::meta_schedule::Runner, tvm::runtime::Array<tvm::meta_schedule::MeasureCallback, void>, tvm::runtime::Optional<tvm::meta_schedule::Database>, tvm::runtime::Optional<tvm::meta_schedule::CostModel>, void>(void (tvm::meta_schedule::TaskSchedulerNode::*)(tvm::runtime::Array<tvm::meta_schedule::TuneContext, void>, tvm::runtime::Array<tvm::FloatImm, void>, int, int, int, tvm::meta_schedule::Builder, tvm::meta_schedule::Runner, tvm::runtime::Array<tvm::meta_schedule::MeasureCallback, void>, tvm::runtime::Optional<tvm::meta_schedule::Database>, tvm::runtime::Optional<tvm::meta_schedule::CostModel>))::{lambda(tvm::meta_schedule::TaskScheduler, tvm::runtime::Array<tvm::meta_schedule::TuneContext, void>, tvm::runtime::Array<tvm::FloatImm, void>, int, int, int, tvm::meta_schedule::Builder, tvm::meta_schedule::Runner, tvm::runtime::Array<tvm::meta_schedule::MeasureCallback, void>, tvm::runtime::Optional<tvm::meta_schedule::Database>, tvm::runtime::Optional<tvm::meta_schedule::CostModel>)#1}>(tvm::runtime::Registry::set_body_method<tvm::meta_schedule::TaskScheduler, tvm::meta_schedule::TaskSchedulerNode, void, tvm::runtime::Array<tvm::meta_schedule::TuneContext, void>, tvm::runtime::Array<tvm::FloatImm, void>, int, int, int, tvm::meta_schedule::Builder, tvm::meta_schedule::Runner, tvm::runtime::Array<tvm::meta_schedule::MeasureCallback, void>, tvm::runtime::Optional<tvm::meta_schedule::Database>, tvm::runtime::Optional<tvm::meta_schedule::CostModel>, void>(void (tvm::meta_schedule::TaskSchedulerNode::*)(tvm::runtime::Array<tvm::meta_schedule::TuneContext, void>, tvm::runtime::Array<tvm::FloatImm, void>, int, int, int, tvm::meta_schedule::Builder, tvm::meta_schedule::Runner, tvm::runtime::Array<tvm::meta_schedule::MeasureCallback, void>, tvm::runtime::Optional<tvm::meta_schedule::Database>, tvm::runtime::Optional<tvm::meta_schedule::CostModel>))::{lambda(tvm::meta_schedule::TaskScheduler, tvm::runtime::Array<tvm::meta_schedule::TuneContext, void>, tvm::runtime::Array<tvm::FloatImm, void>, int, int, int, tvm::meta_schedule::Builder, tvm::meta_schedule::Runner, tvm::runtime::Array<tvm::meta_schedule::MeasureCallback, void>, tvm::runtime::Optional<tvm::meta_schedule::Database>, tvm::runtime::Optional<tvm::meta_schedule::CostModel>)#1}, std::__cxx11::basic_string<char, std::char_traits<char>, std::allocator<char> >)::{lambda(tvm::runtime::TVMArgs const&, tvm::runtime::TVMRetValue*)#1}::operator()(tvm::runtime::TVMArgs const&, tvm::runtime::TVMRetValue*) const [clone .isra.0]\n  7: tvm::meta_schedule::GradientBasedNode::Tune(tvm::runtime::Array<tvm::meta_schedule::TuneContext, void>, tvm::runtime::Array<tvm::FloatImm, void>, int, int, int, tvm::meta_schedule::Builder, tvm::meta_schedule::Runner, tvm::runtime::Array<tvm::meta_schedule::MeasureCallback, void>, tvm::runtime::Optional<tvm::meta_schedule::Database>, tvm::runtime::Optional<tvm::meta_schedule::CostModel>)\n  6: tvm::meta_schedule::TaskSchedulerNode::Tune(tvm::runtime::Array<tvm::meta_schedule::TuneContext, void>, tvm::runtime::Array<tvm::FloatImm, void>, int, int, int, tvm::meta_schedule::Builder, tvm::meta_schedule::Runner, tvm::runtime::Array<tvm::meta_schedule::MeasureCallback, void>, tvm::runtime::Optional<tvm::meta_schedule::Database>, tvm::runtime::Optional<tvm::meta_schedule::CostModel>)\n  5: tvm::meta_schedule::PostOrderApplyNode::GenerateDesignSpace(tvm::IRModule const&)\n  4: tvm::meta_schedule::AutoBindNode::Apply(tvm::tir::Schedule const&, tvm::tir::BlockRV const&)\n  3: tvm::meta_schedule::BindBlockThreadIdx(tvm::tir::Schedule, tvm::tir::BlockRV, long, long, std::function<tvm::PrimExpr (long)>)\n  2: tvm::meta_schedule::BindSpatialLoop(tvm::tir::Schedule, tvm::tir::LoopRV, long, long, std::function<tvm::PrimExpr (long)>)\n  1: tvm::tir::TracedScheduleNode::Bind(tvm::tir::LoopRV const&, tvm::runtime::String const&)\n  0: tvm::tir::ConcreteScheduleNode::Bind(tvm::tir::LoopRV const&, tvm::runtime::String const&) [clone .cold]\nScheduleError: An error occurred in the schedule primitive 'bind'.\nThe IR with diagnostic is:\n# from tvm.script import ir as I\n# from tvm.script import tir as T\n\n@I.ir_module\nclass Module:\n    @T.prim_func\n    def main(dx: T.handle, dy: T.handle, dz: T.handle, inv_R3: T.handle):\n        T.func_attr({\"tir.noalias\": T.bool(True)})\n        n = T.int64()\n        X = T.match_buffer(dx, (n, n))\n        Y = T.match_buffer(dy, (n, n))\n        Z = T.match_buffer(dz, (n, n))\n        INV_R3 = T.match_buffer(inv_R3, (n, n))\n        with T.block(\"root\"):\n            T.reads()\n            T.writes()\n            # tir.For#0\n            for i_j_fused_1 in range(T.int64(256)):\n            ^^^^^^^^^^^^^^^^^^^^^^^^^^^^^^^^^^^^^^^\n                for i_j_fused_2 in range(T.int64(1024)):\n                ^^^^^^^^^^^^^^^^^^^^^^^^^^^^^^^^^^^^^^^^\n                    for i_j_fused_0 in range((n * n + T.int64(262143)) // T.int64(262144)):\n                    ^^^^^^^^^^^^^^^^^^^^^^^^^^^^^^^^^^^^^^^^^^^^^^^^^^^^^^^^^^^^^^^^^^^^^^^\n                        # tir.Block#1\n                        with T.block(\"INV_R3\"):\n                        ^^^^^^^^^^^^^^^^^^^^^^^\n                            vi = T.axis.spatial(n, (i_j_fused_0 * T.int64(262144) + i_j_fused_1 * T.int64(1024) + i_j_fused_2) // n)\n                            ^^^^^^^^^^^^^^^^^^^^^^^^^^^^^^^^^^^^^^^^^^^^^^^^^^^^^^^^^^^^^^^^^^^^^^^^^^^^^^^^^^^^^^^^^^^^^^^^^^^^^^^^\n                            vj = T.axis.spatial(n, (i_j_fused_0 * T.int64(262144) + i_j_fused_1 * T.int64(1024) + i_j_fused_2) % n)\n                            ^^^^^^^^^^^^^^^^^^^^^^^^^^^^^^^^^^^^^^^^^^^^^^^^^^^^^^^^^^^^^^^^^^^^^^^^^^^^^^^^^^^^^^^^^^^^^^^^^^^^^^^\n                            T.where((i_j_fused_0 * T.int64(256) + i_j_fused_1) * T.int64(1024) + i_j_fused_2 < n * n)\n                            ^^^^^^^^^^^^^^^^^^^^^^^^^^^^^^^^^^^^^^^^^^^^^^^^^^^^^^^^^^^^^^^^^^^^^^^^^^^^^^^^^^^^^^^^^\n                            T.reads(X[vi, vj], Y[vi, vj], Z[vi, vj], INV_R3[vi, vj])\n                            ^^^^^^^^^^^^^^^^^^^^^^^^^^^^^^^^^^^^^^^^^^^^^^^^^^^^^^^^\n                            T.writes(INV_R3[vi, vj])\n                            ^^^^^^^^^^^^^^^^^^^^^^^^\n                            INV_R3[vi, vj] = T.pow(X[vi, vj], T.float32(2)) + T.pow(Y[vi, vj], T.float32(2)) + T.pow(Z[vi, vj], T.float32(2)) + T.float32(0.010000000000000002)\n                            ^^^^^^^^^^^^^^^^^^^^^^^^^^^^^^^^^^^^^^^^^^^^^^^^^^^^^^^^^^^^^^^^^^^^^^^^^^^^^^^^^^^^^^^^^^^^^^^^^^^^^^^^^^^^^^^^^^^^^^^^^^^^^^^^^^^^^^^^^^^^^^^^^^^\n                            if INV_R3[vi, vj] > T.float32(0):\n                            ^^^^^^^^^^^^^^^^^^^^^^^^^^^^^^^^^\n                                INV_R3[vi, vj] = T.pow(INV_R3[vi, vj], T.float32(-1.5))\n                                ^^^^^^^^^^^^^^^^^^^^^^^^^^^^^^^^^^^^^^^^^^^^^^^^^^^^^^^\nError message: The queried subtree root tir.For#0 in SRef tree does not have compact dataflow, because its child block tir.Block#1 on SRef tree is neither a local complete block nor a local reduction block.\nIt violates condition #3 as a local complete block.\nDefinition of a local complete block:\n1) All block vars are data parallel\n2) Local Dominant: the block is the only writer of its output, dominating the reader of its output buffers under a given subtree\n3) No overlap between the buffers the block reads and writes\nIt violates condition #1 as a local reduction block.\nDefinition of a reduction block:\n1) The block has the `init` statement\n2) All the block bindings are quasi-affine expressions\n3) All block vars are either data parallel block vars or reduction block vars\n4) Local Dominant: the block is the only writer of its output, dominating the reader of its output buffers under a given subtree\n5) The reduction block vars are not used to index the output buffers\n"
     ]
    }
   ],
   "source": [
    "from tvm import meta_schedule as ms\n",
    "database = ms.tune_tir(\n",
    "    mod=mod_inv_R3,\n",
    "    target=\"nvidia/geforce-rtx-3070\",\n",
    "    max_trials_global=6400,\n",
    "    num_trials_per_iter=6400,\n",
    "    work_dir=\"./tune_tmp\",\n",
    "    # task_name=\"main\",\n",
    ")\n",
    "sch = ms.tir_integration.compile_tir(database, mod_inv_R3, \"llvm --num-cores=1\")"
   ]
  },
  {
   "cell_type": "code",
   "execution_count": null,
   "id": "9dfec5b9-27c0-415f-aae4-ede503105436",
   "metadata": {},
   "outputs": [],
   "source": []
  }
 ],
 "metadata": {
  "kernelspec": {
   "display_name": "Python 3 (ipykernel)",
   "language": "python",
   "name": "python3"
  },
  "language_info": {
   "codemirror_mode": {
    "name": "ipython",
    "version": 3
   },
   "file_extension": ".py",
   "mimetype": "text/x-python",
   "name": "python",
   "nbconvert_exporter": "python",
   "pygments_lexer": "ipython3",
   "version": "3.10.12"
  }
 },
 "nbformat": 4,
 "nbformat_minor": 5
}
